{
 "cells": [
  {
   "cell_type": "markdown",
   "id": "ba35b57a",
   "metadata": {},
   "source": [
    "# AIM - Detect whether person wearing mask or not using CNN and OpenCV\n",
    "## Following steps will be followed for achieving the aim:\n",
    "## 1) Loading Dataset, converting images to array.\n",
    "## 2) Model Building using Pre-Trained model VGG-16 (Transfer Learning)\n",
    "## 3) Creating functions using OpenCV to detect mask using Model."
   ]
  },
  {
   "cell_type": "code",
   "execution_count": 5,
   "id": "7b75736b",
   "metadata": {},
   "outputs": [],
   "source": [
    "import cv2\n",
    "import os\n",
    "import tensorflow"
   ]
  },
  {
   "cell_type": "code",
   "execution_count": 2,
   "id": "80d07617",
   "metadata": {},
   "outputs": [],
   "source": [
    "categories=[\"mask\",\"no_mask\"]"
   ]
  },
  {
   "cell_type": "code",
   "execution_count": 3,
   "id": "9ab0b10d",
   "metadata": {},
   "outputs": [],
   "source": [
    "# for accessing image path and its label.\n",
    "data=[]\n",
    "for i in categories:\n",
    "    label=categories.index(i)\n",
    "    for file in os.listdir(i):\n",
    "        imgpath=os.path.join(i,file)\n",
    "        img=cv2.imread(imgpath)\n",
    "        img=cv2.resize(img,(224,224))\n",
    "        data.append([img,label])\n",
    "        "
   ]
  },
  {
   "cell_type": "code",
   "execution_count": 4,
   "id": "754285eb",
   "metadata": {},
   "outputs": [
    {
     "data": {
      "text/plain": [
       "1263"
      ]
     },
     "execution_count": 4,
     "metadata": {},
     "output_type": "execute_result"
    }
   ],
   "source": [
    "len(data)"
   ]
  },
  {
   "cell_type": "code",
   "execution_count": 5,
   "id": "903688f4",
   "metadata": {},
   "outputs": [],
   "source": [
    "#Data is equally divided 1st no mask and then with mask to avoid confusion for model we'll shuffle the data.\n",
    "import random\n",
    "random.shuffle(data)"
   ]
  },
  {
   "cell_type": "code",
   "execution_count": 6,
   "id": "6225a13a",
   "metadata": {},
   "outputs": [],
   "source": [
    "# divide data in x and y \n",
    "x=[]\n",
    "y=[]\n",
    "for i,j in data:\n",
    "    x.append(i)\n",
    "    y.append(j)"
   ]
  },
  {
   "cell_type": "code",
   "execution_count": 7,
   "id": "7f3e961c",
   "metadata": {},
   "outputs": [
    {
     "name": "stdout",
     "output_type": "stream",
     "text": [
      "1263\n"
     ]
    },
    {
     "data": {
      "text/plain": [
       "1263"
      ]
     },
     "execution_count": 7,
     "metadata": {},
     "output_type": "execute_result"
    }
   ],
   "source": [
    "print(len(x))\n",
    "len(y)"
   ]
  },
  {
   "cell_type": "code",
   "execution_count": 8,
   "id": "15087a20",
   "metadata": {},
   "outputs": [],
   "source": [
    "# convert data to array\n",
    "import numpy as np\n",
    "x=np.array(x)\n",
    "y=np.array(y)"
   ]
  },
  {
   "cell_type": "code",
   "execution_count": 9,
   "id": "d817b4a7",
   "metadata": {},
   "outputs": [
    {
     "data": {
      "text/plain": [
       "(1263, 224, 224, 3)"
      ]
     },
     "execution_count": 9,
     "metadata": {},
     "output_type": "execute_result"
    }
   ],
   "source": [
    "x.shape"
   ]
  },
  {
   "cell_type": "code",
   "execution_count": 10,
   "id": "06a2141d",
   "metadata": {},
   "outputs": [
    {
     "data": {
      "text/plain": [
       "(1263,)"
      ]
     },
     "execution_count": 10,
     "metadata": {},
     "output_type": "execute_result"
    }
   ],
   "source": [
    "y.shape"
   ]
  },
  {
   "cell_type": "code",
   "execution_count": 11,
   "id": "5db9a77a",
   "metadata": {},
   "outputs": [],
   "source": [
    "x=x/255"
   ]
  },
  {
   "cell_type": "code",
   "execution_count": 12,
   "id": "d48a8acf",
   "metadata": {},
   "outputs": [
    {
     "data": {
      "text/plain": [
       "array([[[[0.01568627, 0.01568627, 0.01568627],\n",
       "         [0.01568627, 0.01568627, 0.01568627],\n",
       "         [0.01568627, 0.01568627, 0.01568627],\n",
       "         ...,\n",
       "         [0.01568627, 0.01568627, 0.01568627],\n",
       "         [0.01568627, 0.01568627, 0.01568627],\n",
       "         [0.01568627, 0.01568627, 0.01568627]],\n",
       "\n",
       "        [[0.01568627, 0.01568627, 0.01568627],\n",
       "         [0.01568627, 0.01568627, 0.01568627],\n",
       "         [0.01568627, 0.01568627, 0.01568627],\n",
       "         ...,\n",
       "         [0.01568627, 0.01568627, 0.01568627],\n",
       "         [0.01568627, 0.01568627, 0.01568627],\n",
       "         [0.01568627, 0.01568627, 0.01568627]],\n",
       "\n",
       "        [[0.01568627, 0.01568627, 0.01568627],\n",
       "         [0.01568627, 0.01568627, 0.01568627],\n",
       "         [0.01568627, 0.01568627, 0.01568627],\n",
       "         ...,\n",
       "         [0.01568627, 0.01568627, 0.01568627],\n",
       "         [0.01568627, 0.01568627, 0.01568627],\n",
       "         [0.01568627, 0.01568627, 0.01568627]],\n",
       "\n",
       "        ...,\n",
       "\n",
       "        [[0.01568627, 0.01568627, 0.01568627],\n",
       "         [0.01568627, 0.01568627, 0.01568627],\n",
       "         [0.01568627, 0.01568627, 0.01568627],\n",
       "         ...,\n",
       "         [0.01568627, 0.01568627, 0.01568627],\n",
       "         [0.01568627, 0.01568627, 0.01568627],\n",
       "         [0.01568627, 0.01568627, 0.01568627]],\n",
       "\n",
       "        [[0.01568627, 0.01568627, 0.01568627],\n",
       "         [0.01568627, 0.01568627, 0.01568627],\n",
       "         [0.01568627, 0.01568627, 0.01568627],\n",
       "         ...,\n",
       "         [0.01568627, 0.01568627, 0.01568627],\n",
       "         [0.01568627, 0.01568627, 0.01568627],\n",
       "         [0.01568627, 0.01568627, 0.01568627]],\n",
       "\n",
       "        [[0.01568627, 0.01568627, 0.01568627],\n",
       "         [0.01568627, 0.01568627, 0.01568627],\n",
       "         [0.01568627, 0.01568627, 0.01568627],\n",
       "         ...,\n",
       "         [0.01568627, 0.01568627, 0.01568627],\n",
       "         [0.01568627, 0.01568627, 0.01568627],\n",
       "         [0.01568627, 0.01568627, 0.01568627]]],\n",
       "\n",
       "\n",
       "       [[[0.72941176, 0.72156863, 0.71764706],\n",
       "         [0.73333333, 0.7254902 , 0.7254902 ],\n",
       "         [0.74117647, 0.73333333, 0.72941176],\n",
       "         ...,\n",
       "         [0.75686275, 0.76078431, 0.75294118],\n",
       "         [0.77254902, 0.77647059, 0.76862745],\n",
       "         [0.78039216, 0.78431373, 0.77647059]],\n",
       "\n",
       "        [[0.72941176, 0.72156863, 0.71764706],\n",
       "         [0.72941176, 0.72156863, 0.71764706],\n",
       "         [0.73333333, 0.7254902 , 0.72156863],\n",
       "         ...,\n",
       "         [0.75686275, 0.76078431, 0.75294118],\n",
       "         [0.77254902, 0.77647059, 0.76862745],\n",
       "         [0.78431373, 0.78823529, 0.78039216]],\n",
       "\n",
       "        [[0.72941176, 0.72156863, 0.71764706],\n",
       "         [0.7254902 , 0.71372549, 0.70980392],\n",
       "         [0.72156863, 0.71372549, 0.70980392],\n",
       "         ...,\n",
       "         [0.75294118, 0.76078431, 0.74901961],\n",
       "         [0.77254902, 0.77647059, 0.76862745],\n",
       "         [0.78823529, 0.79215686, 0.78431373]],\n",
       "\n",
       "        ...,\n",
       "\n",
       "        [[0.70196078, 0.69411765, 0.69019608],\n",
       "         [0.7372549 , 0.72941176, 0.7254902 ],\n",
       "         [0.74117647, 0.73333333, 0.72941176],\n",
       "         ...,\n",
       "         [0.21568627, 0.21568627, 0.21568627],\n",
       "         [0.24313725, 0.24313725, 0.24313725],\n",
       "         [0.2627451 , 0.2627451 , 0.2627451 ]],\n",
       "\n",
       "        [[0.70588235, 0.69803922, 0.69411765],\n",
       "         [0.7372549 , 0.72941176, 0.7254902 ],\n",
       "         [0.7372549 , 0.72941176, 0.7254902 ],\n",
       "         ...,\n",
       "         [0.19215686, 0.19215686, 0.19215686],\n",
       "         [0.18823529, 0.18823529, 0.18823529],\n",
       "         [0.18431373, 0.18431373, 0.18431373]],\n",
       "\n",
       "        [[0.70588235, 0.69803922, 0.69803922],\n",
       "         [0.73333333, 0.7254902 , 0.72156863],\n",
       "         [0.73333333, 0.7254902 , 0.72156863],\n",
       "         ...,\n",
       "         [0.16078431, 0.16078431, 0.16078431],\n",
       "         [0.14901961, 0.14901961, 0.14901961],\n",
       "         [0.14509804, 0.14509804, 0.14509804]]],\n",
       "\n",
       "\n",
       "       [[[0.45098039, 0.4745098 , 0.40392157],\n",
       "         [0.54901961, 0.56862745, 0.51764706],\n",
       "         [0.48627451, 0.50196078, 0.47843137],\n",
       "         ...,\n",
       "         [0.37647059, 0.17254902, 0.01568627],\n",
       "         [0.4       , 0.19607843, 0.03529412],\n",
       "         [0.39607843, 0.20392157, 0.05490196]],\n",
       "\n",
       "        [[0.50196078, 0.53333333, 0.4627451 ],\n",
       "         [0.54509804, 0.56862745, 0.52156863],\n",
       "         [0.43137255, 0.45490196, 0.42745098],\n",
       "         ...,\n",
       "         [0.37254902, 0.18039216, 0.00784314],\n",
       "         [0.38823529, 0.19215686, 0.01568627],\n",
       "         [0.41176471, 0.21176471, 0.03921569]],\n",
       "\n",
       "        [[0.54509804, 0.57254902, 0.51764706],\n",
       "         [0.47058824, 0.50196078, 0.45490196],\n",
       "         [0.38039216, 0.40784314, 0.38039216],\n",
       "         ...,\n",
       "         [0.37647059, 0.18431373, 0.00392157],\n",
       "         [0.38039216, 0.18823529, 0.        ],\n",
       "         [0.37647059, 0.16862745, 0.00392157]],\n",
       "\n",
       "        ...,\n",
       "\n",
       "        [[0.08627451, 0.05882353, 0.28235294],\n",
       "         [0.1254902 , 0.09803922, 0.32156863],\n",
       "         [0.12156863, 0.09019608, 0.31372549],\n",
       "         ...,\n",
       "         [0.80392157, 0.73333333, 0.8       ],\n",
       "         [0.77647059, 0.70980392, 0.77647059],\n",
       "         [0.77254902, 0.71372549, 0.78039216]],\n",
       "\n",
       "        [[0.09411765, 0.08627451, 0.30588235],\n",
       "         [0.11372549, 0.09411765, 0.31372549],\n",
       "         [0.12941176, 0.08627451, 0.31372549],\n",
       "         ...,\n",
       "         [0.78431373, 0.72156863, 0.79215686],\n",
       "         [0.77254902, 0.70980392, 0.78039216],\n",
       "         [0.78039216, 0.72156863, 0.79215686]],\n",
       "\n",
       "        [[0.07843137, 0.0745098 , 0.29411765],\n",
       "         [0.11764706, 0.10196078, 0.32156863],\n",
       "         [0.13333333, 0.09019608, 0.31764706],\n",
       "         ...,\n",
       "         [0.76862745, 0.70588235, 0.77254902],\n",
       "         [0.77647059, 0.71764706, 0.78823529],\n",
       "         [0.76470588, 0.70588235, 0.78431373]]],\n",
       "\n",
       "\n",
       "       ...,\n",
       "\n",
       "\n",
       "       [[[0.72156863, 0.72156863, 0.72156863],\n",
       "         [0.72156863, 0.72156863, 0.72156863],\n",
       "         [0.72156863, 0.72156863, 0.72156863],\n",
       "         ...,\n",
       "         [0.81960784, 0.81960784, 0.81960784],\n",
       "         [0.81960784, 0.81960784, 0.81960784],\n",
       "         [0.81960784, 0.81960784, 0.81960784]],\n",
       "\n",
       "        [[0.72156863, 0.72156863, 0.72156863],\n",
       "         [0.72156863, 0.72156863, 0.72156863],\n",
       "         [0.72156863, 0.72156863, 0.72156863],\n",
       "         ...,\n",
       "         [0.81960784, 0.81960784, 0.81960784],\n",
       "         [0.81960784, 0.81960784, 0.81960784],\n",
       "         [0.81960784, 0.81960784, 0.81960784]],\n",
       "\n",
       "        [[0.71764706, 0.71764706, 0.71764706],\n",
       "         [0.71764706, 0.71764706, 0.71764706],\n",
       "         [0.71764706, 0.71764706, 0.71764706],\n",
       "         ...,\n",
       "         [0.81960784, 0.81960784, 0.81960784],\n",
       "         [0.81960784, 0.81960784, 0.81960784],\n",
       "         [0.81960784, 0.81960784, 0.81960784]],\n",
       "\n",
       "        ...,\n",
       "\n",
       "        [[0.70980392, 0.70980392, 0.70980392],\n",
       "         [0.70980392, 0.70980392, 0.70980392],\n",
       "         [0.70980392, 0.70980392, 0.70980392],\n",
       "         ...,\n",
       "         [0.14901961, 0.14901961, 0.14901961],\n",
       "         [0.14509804, 0.14509804, 0.14509804],\n",
       "         [0.14509804, 0.14509804, 0.14509804]],\n",
       "\n",
       "        [[0.70980392, 0.70980392, 0.70980392],\n",
       "         [0.70980392, 0.70980392, 0.70980392],\n",
       "         [0.70980392, 0.70980392, 0.70980392],\n",
       "         ...,\n",
       "         [0.15294118, 0.15294118, 0.15294118],\n",
       "         [0.15294118, 0.15294118, 0.15294118],\n",
       "         [0.16078431, 0.16078431, 0.16078431]],\n",
       "\n",
       "        [[0.71372549, 0.71372549, 0.71372549],\n",
       "         [0.71372549, 0.71372549, 0.71372549],\n",
       "         [0.71372549, 0.71372549, 0.71372549],\n",
       "         ...,\n",
       "         [0.15294118, 0.15294118, 0.15294118],\n",
       "         [0.15686275, 0.15686275, 0.15686275],\n",
       "         [0.17254902, 0.17254902, 0.17254902]]],\n",
       "\n",
       "\n",
       "       [[[0.74901961, 0.85882353, 0.83529412],\n",
       "         [0.74509804, 0.85490196, 0.83137255],\n",
       "         [0.7372549 , 0.85098039, 0.82745098],\n",
       "         ...,\n",
       "         [0.98823529, 0.98823529, 0.98823529],\n",
       "         [0.99215686, 0.99607843, 0.98823529],\n",
       "         [0.99215686, 0.99607843, 0.98823529]],\n",
       "\n",
       "        [[0.74901961, 0.85882353, 0.83529412],\n",
       "         [0.74509804, 0.85490196, 0.83137255],\n",
       "         [0.74117647, 0.85098039, 0.82745098],\n",
       "         ...,\n",
       "         [0.98823529, 0.98823529, 0.98823529],\n",
       "         [0.99215686, 0.99607843, 0.98823529],\n",
       "         [0.99215686, 0.99607843, 0.98823529]],\n",
       "\n",
       "        [[0.75686275, 0.8627451 , 0.83921569],\n",
       "         [0.75294118, 0.85882353, 0.83529412],\n",
       "         [0.74509804, 0.85098039, 0.82745098],\n",
       "         ...,\n",
       "         [0.98823529, 0.98823529, 0.98823529],\n",
       "         [0.99215686, 0.99607843, 0.98823529],\n",
       "         [0.99215686, 0.99607843, 0.98823529]],\n",
       "\n",
       "        ...,\n",
       "\n",
       "        [[0.85098039, 0.81568627, 0.9372549 ],\n",
       "         [0.84705882, 0.81176471, 0.92941176],\n",
       "         [0.84705882, 0.81176471, 0.9254902 ],\n",
       "         ...,\n",
       "         [0.42745098, 0.51372549, 0.79607843],\n",
       "         [0.4       , 0.48235294, 0.76862745],\n",
       "         [0.38431373, 0.45490196, 0.75294118]],\n",
       "\n",
       "        [[0.83137255, 0.81568627, 0.9254902 ],\n",
       "         [0.83921569, 0.83137255, 0.93333333],\n",
       "         [0.85490196, 0.84705882, 0.94509804],\n",
       "         ...,\n",
       "         [0.45490196, 0.54117647, 0.81960784],\n",
       "         [0.43529412, 0.52156863, 0.80392157],\n",
       "         [0.42352941, 0.50588235, 0.8       ]],\n",
       "\n",
       "        [[0.82352941, 0.81960784, 0.92156863],\n",
       "         [0.83137255, 0.83137255, 0.92941176],\n",
       "         [0.84705882, 0.85098039, 0.94117647],\n",
       "         ...,\n",
       "         [0.45490196, 0.54117647, 0.81568627],\n",
       "         [0.43137255, 0.52156863, 0.80392157],\n",
       "         [0.41568627, 0.50588235, 0.8       ]]],\n",
       "\n",
       "\n",
       "       [[[1.        , 1.        , 1.        ],\n",
       "         [1.        , 1.        , 1.        ],\n",
       "         [1.        , 1.        , 1.        ],\n",
       "         ...,\n",
       "         [1.        , 1.        , 1.        ],\n",
       "         [1.        , 1.        , 1.        ],\n",
       "         [1.        , 1.        , 1.        ]],\n",
       "\n",
       "        [[1.        , 1.        , 1.        ],\n",
       "         [1.        , 1.        , 1.        ],\n",
       "         [1.        , 1.        , 1.        ],\n",
       "         ...,\n",
       "         [1.        , 1.        , 1.        ],\n",
       "         [1.        , 1.        , 1.        ],\n",
       "         [1.        , 1.        , 1.        ]],\n",
       "\n",
       "        [[1.        , 1.        , 1.        ],\n",
       "         [1.        , 1.        , 1.        ],\n",
       "         [1.        , 1.        , 1.        ],\n",
       "         ...,\n",
       "         [1.        , 1.        , 1.        ],\n",
       "         [1.        , 1.        , 1.        ],\n",
       "         [1.        , 1.        , 1.        ]],\n",
       "\n",
       "        ...,\n",
       "\n",
       "        [[1.        , 1.        , 1.        ],\n",
       "         [1.        , 1.        , 1.        ],\n",
       "         [1.        , 1.        , 1.        ],\n",
       "         ...,\n",
       "         [1.        , 1.        , 1.        ],\n",
       "         [1.        , 1.        , 1.        ],\n",
       "         [1.        , 1.        , 1.        ]],\n",
       "\n",
       "        [[1.        , 1.        , 1.        ],\n",
       "         [1.        , 1.        , 1.        ],\n",
       "         [1.        , 1.        , 1.        ],\n",
       "         ...,\n",
       "         [1.        , 1.        , 1.        ],\n",
       "         [1.        , 1.        , 1.        ],\n",
       "         [1.        , 1.        , 1.        ]],\n",
       "\n",
       "        [[1.        , 1.        , 1.        ],\n",
       "         [1.        , 1.        , 1.        ],\n",
       "         [1.        , 1.        , 1.        ],\n",
       "         ...,\n",
       "         [1.        , 1.        , 1.        ],\n",
       "         [1.        , 1.        , 1.        ],\n",
       "         [1.        , 1.        , 1.        ]]]])"
      ]
     },
     "execution_count": 12,
     "metadata": {},
     "output_type": "execute_result"
    }
   ],
   "source": [
    "x"
   ]
  },
  {
   "cell_type": "code",
   "execution_count": 13,
   "id": "8e353c15",
   "metadata": {},
   "outputs": [],
   "source": [
    "from sklearn.model_selection import train_test_split\n",
    "x_train,x_test,y_train,y_test=train_test_split(x,y,test_size=0.2)"
   ]
  },
  {
   "cell_type": "code",
   "execution_count": 14,
   "id": "5ec81cf3",
   "metadata": {},
   "outputs": [
    {
     "data": {
      "text/plain": [
       "(1010, 224, 224, 3)"
      ]
     },
     "execution_count": 14,
     "metadata": {},
     "output_type": "execute_result"
    }
   ],
   "source": [
    "x_train.shape"
   ]
  },
  {
   "cell_type": "code",
   "execution_count": 15,
   "id": "3dae78cb",
   "metadata": {},
   "outputs": [
    {
     "data": {
      "text/plain": [
       "(1010,)"
      ]
     },
     "execution_count": 15,
     "metadata": {},
     "output_type": "execute_result"
    }
   ],
   "source": [
    "y_train.shape"
   ]
  },
  {
   "cell_type": "markdown",
   "id": "ac7b3bd2",
   "metadata": {},
   "source": [
    "# Model Building"
   ]
  },
  {
   "cell_type": "code",
   "execution_count": 16,
   "id": "502b9cd4",
   "metadata": {},
   "outputs": [],
   "source": [
    "from keras.applications.vgg16 import VGG16"
   ]
  },
  {
   "cell_type": "code",
   "execution_count": 17,
   "id": "79a22e79",
   "metadata": {},
   "outputs": [],
   "source": [
    "vgg=VGG16(include_top=True)"
   ]
  },
  {
   "cell_type": "code",
   "execution_count": 18,
   "id": "95990819",
   "metadata": {},
   "outputs": [
    {
     "name": "stdout",
     "output_type": "stream",
     "text": [
      "Model: \"vgg16\"\n",
      "_________________________________________________________________\n",
      " Layer (type)                Output Shape              Param #   \n",
      "=================================================================\n",
      " input_1 (InputLayer)        [(None, 224, 224, 3)]     0         \n",
      "                                                                 \n",
      " block1_conv1 (Conv2D)       (None, 224, 224, 64)      1792      \n",
      "                                                                 \n",
      " block1_conv2 (Conv2D)       (None, 224, 224, 64)      36928     \n",
      "                                                                 \n",
      " block1_pool (MaxPooling2D)  (None, 112, 112, 64)      0         \n",
      "                                                                 \n",
      " block2_conv1 (Conv2D)       (None, 112, 112, 128)     73856     \n",
      "                                                                 \n",
      " block2_conv2 (Conv2D)       (None, 112, 112, 128)     147584    \n",
      "                                                                 \n",
      " block2_pool (MaxPooling2D)  (None, 56, 56, 128)       0         \n",
      "                                                                 \n",
      " block3_conv1 (Conv2D)       (None, 56, 56, 256)       295168    \n",
      "                                                                 \n",
      " block3_conv2 (Conv2D)       (None, 56, 56, 256)       590080    \n",
      "                                                                 \n",
      " block3_conv3 (Conv2D)       (None, 56, 56, 256)       590080    \n",
      "                                                                 \n",
      " block3_pool (MaxPooling2D)  (None, 28, 28, 256)       0         \n",
      "                                                                 \n",
      " block4_conv1 (Conv2D)       (None, 28, 28, 512)       1180160   \n",
      "                                                                 \n",
      " block4_conv2 (Conv2D)       (None, 28, 28, 512)       2359808   \n",
      "                                                                 \n",
      " block4_conv3 (Conv2D)       (None, 28, 28, 512)       2359808   \n",
      "                                                                 \n",
      " block4_pool (MaxPooling2D)  (None, 14, 14, 512)       0         \n",
      "                                                                 \n",
      " block5_conv1 (Conv2D)       (None, 14, 14, 512)       2359808   \n",
      "                                                                 \n",
      " block5_conv2 (Conv2D)       (None, 14, 14, 512)       2359808   \n",
      "                                                                 \n",
      " block5_conv3 (Conv2D)       (None, 14, 14, 512)       2359808   \n",
      "                                                                 \n",
      " block5_pool (MaxPooling2D)  (None, 7, 7, 512)         0         \n",
      "                                                                 \n",
      " flatten (Flatten)           (None, 25088)             0         \n",
      "                                                                 \n",
      " fc1 (Dense)                 (None, 4096)              102764544 \n",
      "                                                                 \n",
      " fc2 (Dense)                 (None, 4096)              16781312  \n",
      "                                                                 \n",
      " predictions (Dense)         (None, 1000)              4097000   \n",
      "                                                                 \n",
      "=================================================================\n",
      "Total params: 138,357,544\n",
      "Trainable params: 138,357,544\n",
      "Non-trainable params: 0\n",
      "_________________________________________________________________\n"
     ]
    }
   ],
   "source": [
    "vgg.summary()"
   ]
  },
  {
   "cell_type": "code",
   "execution_count": 21,
   "id": "a9f409f7",
   "metadata": {},
   "outputs": [],
   "source": [
    "from keras import Sequential"
   ]
  },
  {
   "cell_type": "code",
   "execution_count": 22,
   "id": "bd1c45c5",
   "metadata": {},
   "outputs": [],
   "source": [
    "model=Sequential()"
   ]
  },
  {
   "cell_type": "code",
   "execution_count": 23,
   "id": "0212e389",
   "metadata": {},
   "outputs": [],
   "source": [
    "for layer in vgg.layers[0:-1]:\n",
    "    model.add(layer)"
   ]
  },
  {
   "cell_type": "code",
   "execution_count": 24,
   "id": "dfdfefc8",
   "metadata": {},
   "outputs": [
    {
     "name": "stdout",
     "output_type": "stream",
     "text": [
      "Model: \"sequential\"\n",
      "_________________________________________________________________\n",
      " Layer (type)                Output Shape              Param #   \n",
      "=================================================================\n",
      " block1_conv1 (Conv2D)       (None, 224, 224, 64)      1792      \n",
      "                                                                 \n",
      " block1_conv2 (Conv2D)       (None, 224, 224, 64)      36928     \n",
      "                                                                 \n",
      " block1_pool (MaxPooling2D)  (None, 112, 112, 64)      0         \n",
      "                                                                 \n",
      " block2_conv1 (Conv2D)       (None, 112, 112, 128)     73856     \n",
      "                                                                 \n",
      " block2_conv2 (Conv2D)       (None, 112, 112, 128)     147584    \n",
      "                                                                 \n",
      " block2_pool (MaxPooling2D)  (None, 56, 56, 128)       0         \n",
      "                                                                 \n",
      " block3_conv1 (Conv2D)       (None, 56, 56, 256)       295168    \n",
      "                                                                 \n",
      " block3_conv2 (Conv2D)       (None, 56, 56, 256)       590080    \n",
      "                                                                 \n",
      " block3_conv3 (Conv2D)       (None, 56, 56, 256)       590080    \n",
      "                                                                 \n",
      " block3_pool (MaxPooling2D)  (None, 28, 28, 256)       0         \n",
      "                                                                 \n",
      " block4_conv1 (Conv2D)       (None, 28, 28, 512)       1180160   \n",
      "                                                                 \n",
      " block4_conv2 (Conv2D)       (None, 28, 28, 512)       2359808   \n",
      "                                                                 \n",
      " block4_conv3 (Conv2D)       (None, 28, 28, 512)       2359808   \n",
      "                                                                 \n",
      " block4_pool (MaxPooling2D)  (None, 14, 14, 512)       0         \n",
      "                                                                 \n",
      " block5_conv1 (Conv2D)       (None, 14, 14, 512)       2359808   \n",
      "                                                                 \n",
      " block5_conv2 (Conv2D)       (None, 14, 14, 512)       2359808   \n",
      "                                                                 \n",
      " block5_conv3 (Conv2D)       (None, 14, 14, 512)       2359808   \n",
      "                                                                 \n",
      " block5_pool (MaxPooling2D)  (None, 7, 7, 512)         0         \n",
      "                                                                 \n",
      " flatten (Flatten)           (None, 25088)             0         \n",
      "                                                                 \n",
      " fc1 (Dense)                 (None, 4096)              102764544 \n",
      "                                                                 \n",
      " fc2 (Dense)                 (None, 4096)              16781312  \n",
      "                                                                 \n",
      "=================================================================\n",
      "Total params: 134,260,544\n",
      "Trainable params: 134,260,544\n",
      "Non-trainable params: 0\n",
      "_________________________________________________________________\n"
     ]
    }
   ],
   "source": [
    "model.summary()"
   ]
  },
  {
   "cell_type": "code",
   "execution_count": 25,
   "id": "ad51f8e0",
   "metadata": {},
   "outputs": [],
   "source": [
    "for layer in model.layers:\n",
    "    layer.trainable=False"
   ]
  },
  {
   "cell_type": "code",
   "execution_count": 26,
   "id": "90145e4f",
   "metadata": {},
   "outputs": [
    {
     "name": "stdout",
     "output_type": "stream",
     "text": [
      "Model: \"sequential\"\n",
      "_________________________________________________________________\n",
      " Layer (type)                Output Shape              Param #   \n",
      "=================================================================\n",
      " block1_conv1 (Conv2D)       (None, 224, 224, 64)      1792      \n",
      "                                                                 \n",
      " block1_conv2 (Conv2D)       (None, 224, 224, 64)      36928     \n",
      "                                                                 \n",
      " block1_pool (MaxPooling2D)  (None, 112, 112, 64)      0         \n",
      "                                                                 \n",
      " block2_conv1 (Conv2D)       (None, 112, 112, 128)     73856     \n",
      "                                                                 \n",
      " block2_conv2 (Conv2D)       (None, 112, 112, 128)     147584    \n",
      "                                                                 \n",
      " block2_pool (MaxPooling2D)  (None, 56, 56, 128)       0         \n",
      "                                                                 \n",
      " block3_conv1 (Conv2D)       (None, 56, 56, 256)       295168    \n",
      "                                                                 \n",
      " block3_conv2 (Conv2D)       (None, 56, 56, 256)       590080    \n",
      "                                                                 \n",
      " block3_conv3 (Conv2D)       (None, 56, 56, 256)       590080    \n",
      "                                                                 \n",
      " block3_pool (MaxPooling2D)  (None, 28, 28, 256)       0         \n",
      "                                                                 \n",
      " block4_conv1 (Conv2D)       (None, 28, 28, 512)       1180160   \n",
      "                                                                 \n",
      " block4_conv2 (Conv2D)       (None, 28, 28, 512)       2359808   \n",
      "                                                                 \n",
      " block4_conv3 (Conv2D)       (None, 28, 28, 512)       2359808   \n",
      "                                                                 \n",
      " block4_pool (MaxPooling2D)  (None, 14, 14, 512)       0         \n",
      "                                                                 \n",
      " block5_conv1 (Conv2D)       (None, 14, 14, 512)       2359808   \n",
      "                                                                 \n",
      " block5_conv2 (Conv2D)       (None, 14, 14, 512)       2359808   \n",
      "                                                                 \n",
      " block5_conv3 (Conv2D)       (None, 14, 14, 512)       2359808   \n",
      "                                                                 \n",
      " block5_pool (MaxPooling2D)  (None, 7, 7, 512)         0         \n",
      "                                                                 \n",
      " flatten (Flatten)           (None, 25088)             0         \n",
      "                                                                 \n",
      " fc1 (Dense)                 (None, 4096)              102764544 \n",
      "                                                                 \n",
      " fc2 (Dense)                 (None, 4096)              16781312  \n",
      "                                                                 \n",
      "=================================================================\n",
      "Total params: 134,260,544\n",
      "Trainable params: 0\n",
      "Non-trainable params: 134,260,544\n",
      "_________________________________________________________________\n"
     ]
    }
   ],
   "source": [
    "model.summary()"
   ]
  },
  {
   "cell_type": "code",
   "execution_count": 27,
   "id": "a880130f",
   "metadata": {},
   "outputs": [],
   "source": [
    "from keras.layers import Dense"
   ]
  },
  {
   "cell_type": "code",
   "execution_count": 28,
   "id": "a008cd91",
   "metadata": {},
   "outputs": [],
   "source": [
    "model.add(Dense(1,activation='sigmoid'))"
   ]
  },
  {
   "cell_type": "code",
   "execution_count": 29,
   "id": "3c78610a",
   "metadata": {},
   "outputs": [
    {
     "name": "stdout",
     "output_type": "stream",
     "text": [
      "Model: \"sequential\"\n",
      "_________________________________________________________________\n",
      " Layer (type)                Output Shape              Param #   \n",
      "=================================================================\n",
      " block1_conv1 (Conv2D)       (None, 224, 224, 64)      1792      \n",
      "                                                                 \n",
      " block1_conv2 (Conv2D)       (None, 224, 224, 64)      36928     \n",
      "                                                                 \n",
      " block1_pool (MaxPooling2D)  (None, 112, 112, 64)      0         \n",
      "                                                                 \n",
      " block2_conv1 (Conv2D)       (None, 112, 112, 128)     73856     \n",
      "                                                                 \n",
      " block2_conv2 (Conv2D)       (None, 112, 112, 128)     147584    \n",
      "                                                                 \n",
      " block2_pool (MaxPooling2D)  (None, 56, 56, 128)       0         \n",
      "                                                                 \n",
      " block3_conv1 (Conv2D)       (None, 56, 56, 256)       295168    \n",
      "                                                                 \n",
      " block3_conv2 (Conv2D)       (None, 56, 56, 256)       590080    \n",
      "                                                                 \n",
      " block3_conv3 (Conv2D)       (None, 56, 56, 256)       590080    \n",
      "                                                                 \n",
      " block3_pool (MaxPooling2D)  (None, 28, 28, 256)       0         \n",
      "                                                                 \n",
      " block4_conv1 (Conv2D)       (None, 28, 28, 512)       1180160   \n",
      "                                                                 \n",
      " block4_conv2 (Conv2D)       (None, 28, 28, 512)       2359808   \n",
      "                                                                 \n",
      " block4_conv3 (Conv2D)       (None, 28, 28, 512)       2359808   \n",
      "                                                                 \n",
      " block4_pool (MaxPooling2D)  (None, 14, 14, 512)       0         \n",
      "                                                                 \n",
      " block5_conv1 (Conv2D)       (None, 14, 14, 512)       2359808   \n",
      "                                                                 \n",
      " block5_conv2 (Conv2D)       (None, 14, 14, 512)       2359808   \n",
      "                                                                 \n",
      " block5_conv3 (Conv2D)       (None, 14, 14, 512)       2359808   \n",
      "                                                                 \n",
      " block5_pool (MaxPooling2D)  (None, 7, 7, 512)         0         \n",
      "                                                                 \n",
      " flatten (Flatten)           (None, 25088)             0         \n",
      "                                                                 \n",
      " fc1 (Dense)                 (None, 4096)              102764544 \n",
      "                                                                 \n",
      " fc2 (Dense)                 (None, 4096)              16781312  \n",
      "                                                                 \n",
      " dense (Dense)               (None, 1)                 4097      \n",
      "                                                                 \n",
      "=================================================================\n",
      "Total params: 134,264,641\n",
      "Trainable params: 4,097\n",
      "Non-trainable params: 134,260,544\n",
      "_________________________________________________________________\n"
     ]
    }
   ],
   "source": [
    "model.summary()"
   ]
  },
  {
   "cell_type": "code",
   "execution_count": 30,
   "id": "09dfae27",
   "metadata": {},
   "outputs": [],
   "source": [
    "model.compile(optimizer='Adam', loss='binary_crossentropy', metrics=['accuracy'])"
   ]
  },
  {
   "cell_type": "code",
   "execution_count": 31,
   "id": "32313014",
   "metadata": {},
   "outputs": [
    {
     "name": "stdout",
     "output_type": "stream",
     "text": [
      "Epoch 1/5\n",
      "32/32 [==============================] - 2532s 76s/step - loss: 0.5964 - accuracy: 0.6673 - val_loss: 0.4558 - val_accuracy: 0.8379\n",
      "Epoch 2/5\n",
      "32/32 [==============================] - 2376s 75s/step - loss: 0.3957 - accuracy: 0.8535 - val_loss: 0.3526 - val_accuracy: 0.8656\n",
      "Epoch 3/5\n",
      "32/32 [==============================] - 2403s 76s/step - loss: 0.3403 - accuracy: 0.8663 - val_loss: 0.3011 - val_accuracy: 0.8854\n",
      "Epoch 4/5\n",
      "32/32 [==============================] - 2390s 75s/step - loss: 0.2794 - accuracy: 0.9050 - val_loss: 0.2710 - val_accuracy: 0.8933\n",
      "Epoch 5/5\n",
      "32/32 [==============================] - 2436s 77s/step - loss: 0.2475 - accuracy: 0.9129 - val_loss: 0.2422 - val_accuracy: 0.9209\n"
     ]
    },
    {
     "data": {
      "text/plain": [
       "<keras.callbacks.History at 0x2926de3efd0>"
      ]
     },
     "execution_count": 31,
     "metadata": {},
     "output_type": "execute_result"
    }
   ],
   "source": [
    "model.fit(x_train,y_train,epochs=5,validation_data=(x_test,y_test))"
   ]
  },
  {
   "cell_type": "code",
   "execution_count": 53,
   "id": "432c6acd",
   "metadata": {},
   "outputs": [],
   "source": [
    "model.save('vgg.h5')"
   ]
  },
  {
   "cell_type": "code",
   "execution_count": 1,
   "id": "03a1c841",
   "metadata": {},
   "outputs": [],
   "source": [
    "# Model trained, we can predict whether person wearing mask or not using model and OpenCV"
   ]
  },
  {
   "cell_type": "code",
   "execution_count": 17,
   "id": "118366c5",
   "metadata": {},
   "outputs": [],
   "source": [
    "from tensorflow.keras.models import load_model"
   ]
  },
  {
   "cell_type": "code",
   "execution_count": 18,
   "id": "23e0df92",
   "metadata": {},
   "outputs": [],
   "source": [
    "model=load_model('vgg.h5')"
   ]
  },
  {
   "cell_type": "code",
   "execution_count": 19,
   "id": "2b0d458e",
   "metadata": {},
   "outputs": [],
   "source": [
    "cap=cv2.VideoCapture(0)"
   ]
  },
  {
   "cell_type": "code",
   "execution_count": 20,
   "id": "cf699cdf",
   "metadata": {},
   "outputs": [],
   "source": [
    "def detect_mask(img):\n",
    "    y_pred= model.predict(img.reshape(1,224,224,3))\n",
    "    return y_pred[0][0]"
   ]
  },
  {
   "cell_type": "code",
   "execution_count": 21,
   "id": "ab5de1df",
   "metadata": {},
   "outputs": [],
   "source": [
    "def draw_label(img,text,pos,col):\n",
    "    text_size= cv2.getTextSize(text,cv2.FONT_HERSHEY_SIMPLEX,1,cv2.FILLED)\n",
    "    end_x = pos[0] + text_size[0][0] + 2\n",
    "    end_y = pos[1] + text_size[0][1] - 2\n",
    "    \n",
    "    cv2.rectangle(img,pos,(end_x,end_y),col,cv2.FILLED)\n",
    "    cv2.putText(img,text,pos,cv2.FONT_HERSHEY_SIMPLEX,1,(0,0,0),1,cv2.LINE_AA)"
   ]
  },
  {
   "cell_type": "code",
   "execution_count": 22,
   "id": "f5fb81e2",
   "metadata": {},
   "outputs": [],
   "source": [
    "haar = cv2.CascadeClassifier(\"haarcascade_frontalface_default.xml\")"
   ]
  },
  {
   "cell_type": "code",
   "execution_count": 25,
   "id": "3ba2c78c",
   "metadata": {},
   "outputs": [],
   "source": [
    "def face_detect(img):\n",
    "    coords=haar.detectMultiScale(img)\n",
    "    return coords"
   ]
  },
  {
   "cell_type": "code",
   "execution_count": 28,
   "id": "49b93acb",
   "metadata": {},
   "outputs": [
    {
     "name": "stdout",
     "output_type": "stream",
     "text": [
      "1/1 [==============================] - 3s 3s/step\n",
      "1/1 [==============================] - 2s 2s/step\n",
      "1/1 [==============================] - 3s 3s/step\n",
      "1/1 [==============================] - 3s 3s/step\n",
      "1/1 [==============================] - 3s 3s/step\n"
     ]
    }
   ],
   "source": [
    "while True:\n",
    "    ret, frame = cap.read()\n",
    "    \n",
    "    img= cv2.resize(frame,(224,224))\n",
    "    y_pred = detect_mask(img)\n",
    "    \n",
    "    coords= face_detect(cv2.cvtColor(frame,cv2.COLOR_BGR2GRAY))\n",
    "    for x,y,w,h in coords:\n",
    "        cv2.rectangle(frame,(x,y),(x+w,y+h),(255,0,0),3)\n",
    "    \n",
    "    if y_pred > 0.9:\n",
    "        draw_label(frame,\"No mask\", (30,30),(0,0,255))\n",
    "    else:\n",
    "        draw_label(frame,\"Mask\", (30,30),(0,255,0))\n",
    "        \n",
    "    \n",
    "    cv2.imshow(\"window\",frame)\n",
    "    if cv2.waitKey(1) & 0xFF== ord('p'):\n",
    "        break\n",
    "cv2.destroyAllWindows()"
   ]
  },
  {
   "cell_type": "code",
   "execution_count": null,
   "id": "f6ef072c",
   "metadata": {},
   "outputs": [],
   "source": []
  }
 ],
 "metadata": {
  "kernelspec": {
   "display_name": "Python 3 (ipykernel)",
   "language": "python",
   "name": "python3"
  },
  "language_info": {
   "codemirror_mode": {
    "name": "ipython",
    "version": 3
   },
   "file_extension": ".py",
   "mimetype": "text/x-python",
   "name": "python",
   "nbconvert_exporter": "python",
   "pygments_lexer": "ipython3",
   "version": "3.9.7"
  }
 },
 "nbformat": 4,
 "nbformat_minor": 5
}
